{
 "cells": [
  {
   "cell_type": "markdown",
   "metadata": {},
   "source": [
    "## Crash Course Part 2"
   ]
  },
  {
   "cell_type": "markdown",
   "metadata": {},
   "source": [
    "### Loops"
   ]
  },
  {
   "cell_type": "markdown",
   "metadata": {},
   "source": [
    "#### while loops"
   ]
  },
  {
   "cell_type": "code",
   "execution_count": null,
   "metadata": {},
   "outputs": [],
   "source": [
    "# while loop\n",
    "\n",
    "guess = 0\n",
    "magicnumber = 5\n",
    "\n",
    "while(guess!=magicnumber):\n",
    "    guess = int(input(\"Guess number: \"))\n",
    "\n",
    "    if(guess==magicnumber):\n",
    "        print(\"You guessed it right\")\n",
    "    elif(guess>magicnumber):\n",
    "        print(\"Lower\")\n",
    "    else:\n",
    "        print(\"Higher\")\n",
    "        \n",
    "print(\"End of program.\")\n"
   ]
  },
  {
   "cell_type": "code",
   "execution_count": 1,
   "metadata": {},
   "outputs": [
    {
     "name": "stdout",
     "output_type": "stream",
     "text": [
      "Guess number: 5\n",
      "You guessed it right\n",
      "End of program.\n"
     ]
    }
   ],
   "source": [
    "# Variation of while loop using \"break\"\n",
    "\n",
    "guess = 0\n",
    "magicnumber = 5\n",
    "\n",
    "while(True):\n",
    "    guess = int(input(\"Guess number: \"))\n",
    "\n",
    "    if(guess==magicnumber):\n",
    "        print(\"You guessed it right\")\n",
    "        break\n",
    "    elif(guess>magicnumber):\n",
    "        print(\"Lower\")\n",
    "    else:\n",
    "        print(\"Higher\")\n",
    "        \n",
    "print(\"End of program.\")"
   ]
  },
  {
   "cell_type": "markdown",
   "metadata": {},
   "source": [
    "#### for loops"
   ]
  },
  {
   "cell_type": "code",
   "execution_count": null,
   "metadata": {},
   "outputs": [],
   "source": [
    "for i in range(1,10):\n",
    "    print(i)"
   ]
  },
  {
   "cell_type": "code",
   "execution_count": null,
   "metadata": {},
   "outputs": [],
   "source": [
    "for i in range(1,10):\n",
    "    print(\"*\"*i)"
   ]
  },
  {
   "cell_type": "markdown",
   "metadata": {},
   "source": [
    "#### inner loops"
   ]
  },
  {
   "cell_type": "code",
   "execution_count": null,
   "metadata": {},
   "outputs": [],
   "source": [
    "size = 5\n",
    "\n",
    "shape = \"\"\n",
    "\n",
    "for i in range(1,size+1):\n",
    "    for j in range(1,i+1):\n",
    "        print(\"*\",end=\"\")\n",
    "    print(\"\")\n",
    "    "
   ]
  },
  {
   "cell_type": "markdown",
   "metadata": {},
   "source": [
    "### Functions"
   ]
  },
  {
   "cell_type": "code",
   "execution_count": null,
   "metadata": {},
   "outputs": [],
   "source": [
    "def helloworld(mystring):\n",
    "    print(mystring)\n",
    "    \n",
    "helloworld(\"Hello World!\")"
   ]
  },
  {
   "cell_type": "code",
   "execution_count": null,
   "metadata": {},
   "outputs": [],
   "source": [
    "def get_subtotal(p, q):\n",
    "    return p * q\n",
    "\n",
    "price = 100\n",
    "qty = 2\n",
    "\n",
    "print(get_subtotal(price,qty))"
   ]
  },
  {
   "cell_type": "markdown",
   "metadata": {},
   "source": [
    "### Strings Part 2"
   ]
  },
  {
   "cell_type": "markdown",
   "metadata": {},
   "source": [
    "**Review**\n",
    "* A string is a sequence of characters\n",
    "* Can be enclosed in single quotes or double quotes\n",
    "* The backslash can be used to escape quotes and special characters\n",
    "* Force a line break with \\n\n"
   ]
  },
  {
   "cell_type": "code",
   "execution_count": null,
   "metadata": {},
   "outputs": [],
   "source": [
    "print('\"Isn\\'t it?\" she asked.')"
   ]
  },
  {
   "cell_type": "code",
   "execution_count": null,
   "metadata": {},
   "outputs": [],
   "source": [
    "print(\"Line 1.\\nLine 2.\")"
   ]
  },
  {
   "cell_type": "markdown",
   "metadata": {},
   "source": [
    "#### Built-in String functions"
   ]
  },
  {
   "cell_type": "code",
   "execution_count": null,
   "metadata": {},
   "outputs": [],
   "source": [
    "# Get the length of the string\n",
    "product = \"Hydro Flask\"\n",
    "len(product)"
   ]
  },
  {
   "cell_type": "code",
   "execution_count": null,
   "metadata": {},
   "outputs": [],
   "source": [
    "# Indexing\n",
    "# each character can be accessed using square brackets\n",
    "product = \"Hydro Flask\"\n",
    "print(product[0])\n",
    "print(product[4])"
   ]
  },
  {
   "cell_type": "markdown",
   "metadata": {},
   "source": [
    "H|y|d|r|o| |F|l|a|s|k\n",
    "-|-|-|-|-|-|-|-|-|-|-\n",
    "0|1|2|3|4|5|6|7|8|9|10"
   ]
  },
  {
   "cell_type": "code",
   "execution_count": 17,
   "metadata": {},
   "outputs": [
    {
     "name": "stdout",
     "output_type": "stream",
     "text": [
      "k\n",
      "s\n"
     ]
    }
   ],
   "source": [
    "# Negative indices\n",
    "# Starts at -1 (last character)\n",
    "print(product[-1])\n",
    "print(product[-2])"
   ]
  },
  {
   "cell_type": "code",
   "execution_count": 20,
   "metadata": {},
   "outputs": [
    {
     "data": {
      "text/plain": [
       "'sksksksksk'"
      ]
     },
     "execution_count": 20,
     "metadata": {},
     "output_type": "execute_result"
    }
   ],
   "source": [
    "# Repeat:\n",
    "(product[-2]+product[-1])*5"
   ]
  },
  {
   "cell_type": "code",
   "execution_count": null,
   "metadata": {},
   "outputs": [],
   "source": [
    "## String indices and loops: while\n",
    "product = \"Hydro Flask\"\n",
    "index = 0\n",
    "while index < len(product):\n",
    "    letter = product[index]\n",
    "    print(letter)\n",
    "    index = index + 1\n"
   ]
  },
  {
   "cell_type": "code",
   "execution_count": null,
   "metadata": {},
   "outputs": [],
   "source": [
    "product = \"Hydro Flask\"\n",
    "index = 0\n",
    "while index < len(product):\n",
    "    letter = product[index]\n",
    "    print(letter)\n",
    "    index += 1"
   ]
  },
  {
   "cell_type": "code",
   "execution_count": null,
   "metadata": {},
   "outputs": [],
   "source": [
    "product = \"Hydro Flask\"\n",
    "for char in product:\n",
    "    print(char)"
   ]
  },
  {
   "cell_type": "code",
   "execution_count": null,
   "metadata": {},
   "outputs": [],
   "source": [
    "# count specific letters\n",
    "\n",
    "letter = \"a\"\n",
    "\n",
    "product = \"Hydro Flask\"\n",
    "count = 0\n",
    "for char in product:\n",
    "    if(char==letter):\n",
    "        count += 1\n",
    "print(count)\n"
   ]
  },
  {
   "cell_type": "code",
   "execution_count": null,
   "metadata": {},
   "outputs": [],
   "source": [
    "# substrings\n",
    "'ask' in product"
   ]
  },
  {
   "cell_type": "code",
   "execution_count": null,
   "metadata": {},
   "outputs": [],
   "source": [
    "'sksksk' in product"
   ]
  },
  {
   "cell_type": "code",
   "execution_count": null,
   "metadata": {},
   "outputs": [],
   "source": [
    "# slicing\n",
    "# includes the start (\"inclusive\"), excludes the end (\"exclusive\")\n",
    "product1 = \"Hydro Flask\"\n",
    "product2 = \"Kleen Kanteen\"\n",
    "print(product1[0:5])\n",
    "print(product2[6:len(product2)])\n",
    "print(product1[0:5]+\" \"+product2[6:])"
   ]
  },
  {
   "cell_type": "code",
   "execution_count": 38,
   "metadata": {},
   "outputs": [
    {
     "name": "stdout",
     "output_type": "stream",
     "text": [
      "Hydro\n",
      "Kanteen\n",
      "Hydro Kanteen\n"
     ]
    }
   ],
   "source": [
    "# slicing\n",
    "# includes the start (\"inclusive\"), excludes the end (\"exclusive\")\n",
    "product1 = \"Hydro Flask\"\n",
    "product2 = \"Kleen Kanteen\"\n",
    "print(product1[0:5])\n",
    "print(product2[6:])\n",
    "print(product1[0:5]+\" \"+product2[6:])"
   ]
  },
  {
   "cell_type": "markdown",
   "metadata": {},
   "source": [
    "### Advanced Data Types\n",
    "\n",
    "* lists\n",
    "* dictionaries"
   ]
  },
  {
   "cell_type": "markdown",
   "metadata": {},
   "source": [
    "#### Lists\n",
    "- A list, just like a string, is a sequence of values\n",
    "- Instead of just characters, a list can contain different types of values\n",
    "- The values in the list are called **elements** or **items**"
   ]
  },
  {
   "cell_type": "code",
   "execution_count": null,
   "metadata": {},
   "outputs": [],
   "source": [
    "lista = [10,20,30,40]\n",
    "listb = [\"ten\",\"twenty\",\"thirty\",\"forty\"]\n",
    "\n",
    "print(lista)\n",
    "print(listb)"
   ]
  },
  {
   "cell_type": "code",
   "execution_count": null,
   "metadata": {},
   "outputs": [],
   "source": [
    "# indexing lists\n",
    "print(lista[0])\n",
    "print(listb[-1])"
   ]
  },
  {
   "cell_type": "code",
   "execution_count": null,
   "metadata": {},
   "outputs": [],
   "source": [
    "# using loops for lists\n",
    "for a in lista:\n",
    "    print(a)\n",
    "    \n",
    "for b in listb:\n",
    "    print(b)"
   ]
  },
  {
   "cell_type": "code",
   "execution_count": null,
   "metadata": {},
   "outputs": [],
   "source": [
    "# list functions\n",
    "\n",
    "# split(): breaks a string into a list\n",
    "s = \"one big fight\"\n",
    "print(s.split())"
   ]
  },
  {
   "cell_type": "code",
   "execution_count": null,
   "metadata": {},
   "outputs": [],
   "source": [
    "# with delimiter\n",
    "# split(): breaks a string into a list\n",
    "delimiter = \"-\"\n",
    "s = \"one-big-fight\"\n",
    "print(s.split(delimiter))"
   ]
  },
  {
   "cell_type": "markdown",
   "metadata": {},
   "source": [
    "#### Dictionaries\n",
    "- name or keys and values"
   ]
  },
  {
   "cell_type": "code",
   "execution_count": 61,
   "metadata": {},
   "outputs": [
    {
     "name": "stdout",
     "output_type": "stream",
     "text": [
      "{'code': 100, 'name': 'Americano', 'price': 110}\n"
     ]
    }
   ],
   "source": [
    "product1 = {\"code\":100, \"name\":\"Americano\", \"price\": 110}\n",
    "print(product1)"
   ]
  },
  {
   "cell_type": "code",
   "execution_count": null,
   "metadata": {},
   "outputs": [],
   "source": [
    "# retrieve value\n",
    "print(product1[\"code\"])\n",
    "print(product1[\"name\"])\n",
    "print(product1[\"price\"])"
   ]
  },
  {
   "cell_type": "code",
   "execution_count": null,
   "metadata": {},
   "outputs": [],
   "source": [
    "# list of dictionaries\n",
    "products = [\n",
    "    {'code': 100,\"name\":\"Americano\", \"price\": 110},\n",
    "    {'code': 200,\"name\":\"Espresso\", \"price\": 105},\n",
    "    {'code': 300,\"name\":\"Cappuccino\", \"price\": 120},\n",
    "    {'code': 400,\"name\":\"Latte\", \"price\": 125},\n",
    "]\n",
    "\n",
    "# print a list product names\n",
    "\n",
    "for p in products:\n",
    "    print(p[\"name\"])"
   ]
  },
  {
   "cell_type": "code",
   "execution_count": null,
   "metadata": {},
   "outputs": [],
   "source": [
    "# print a menu\n",
    "\n",
    "for p in products:\n",
    "    print(p[\"name\"] + \":\" + p[\"price\"]) # will yield an error. why?"
   ]
  },
  {
   "cell_type": "code",
   "execution_count": null,
   "metadata": {},
   "outputs": [],
   "source": [
    "# print a menu\n",
    "\n",
    "for p in products:\n",
    "    print(p[\"name\"] + \":\" + str(p[\"price\"]))"
   ]
  },
  {
   "cell_type": "code",
   "execution_count": null,
   "metadata": {},
   "outputs": [],
   "source": [
    "# take orders\n",
    "\n",
    "code = int(input(\"Enter product code: \"))\n",
    "qty = int(input(\"Enter qty: \"))\n",
    "\n",
    "# get price of ordered product\n",
    "\n",
    "price = 0\n",
    "\n",
    "for p in products:\n",
    "    if(p[\"code\"]==code):\n",
    "        price = p[\"price\"]\n",
    "        break\n",
    "\n",
    "print(\"Price is \"+str(price))\n",
    "        \n",
    "print(\"Order subtotal: \"+str(price*qty))"
   ]
  },
  {
   "cell_type": "code",
   "execution_count": 71,
   "metadata": {},
   "outputs": [
    {
     "name": "stdout",
     "output_type": "stream",
     "text": [
      "{'name': 'Americano', 'price': 110}\n"
     ]
    }
   ],
   "source": [
    "# what if there are many products? One big loop will make this very slow.\n",
    "# there is a better way to design the dictionary\n",
    "\n",
    "products = {\n",
    "    100:{\"name\":\"Americano\", \"price\": 110},\n",
    "    200:{\"name\":\"Espresso\", \"price\": 105},\n",
    "    300:{\"name\":\"Cappuccino\", \"price\": 120},\n",
    "    400:{\"name\":\"Latte\", \"price\": 125},\n",
    "}\n",
    "\n",
    "# No need for loop\n",
    "\n",
    "print(products[code])"
   ]
  },
  {
   "cell_type": "code",
   "execution_count": 72,
   "metadata": {},
   "outputs": [
    {
     "data": {
      "text/plain": [
       "110"
      ]
     },
     "execution_count": 72,
     "metadata": {},
     "output_type": "execute_result"
    }
   ],
   "source": [
    "# Get price\n",
    "products[code][\"price\"]"
   ]
  },
  {
   "cell_type": "code",
   "execution_count": null,
   "metadata": {},
   "outputs": [],
   "source": [
    "price = products[code][\"price\"]\n",
    "\n",
    "print(\"Price is \"+str(price))\n",
    "        \n",
    "print(\"Order subtotal: \"+str(price*qty))"
   ]
  },
  {
   "cell_type": "markdown",
   "metadata": {},
   "source": [
    "#### Synthesis: Use a function to get the subtotal"
   ]
  },
  {
   "cell_type": "code",
   "execution_count": null,
   "metadata": {},
   "outputs": [],
   "source": [
    "def subtotal(p,q):\n",
    "    return p*q\n",
    "\n",
    "products = {\n",
    "    100:{\"name\":\"Americano\", \"price\": 110},\n",
    "    200:{\"name\":\"Espresso\", \"price\": 105},\n",
    "    300:{\"name\":\"Cappuccino\", \"price\": 120},\n",
    "    400:{\"name\":\"Latte\", \"price\": 125},\n",
    "}\n",
    "\n",
    "code = int(input(\"Enter product code: \"))\n",
    "qty = int(input(\"Enter qty: \"))\n",
    "\n",
    "# get price of ordered product\n",
    "\n",
    "price = products[code][\"price\"]\n",
    "\n",
    "print(\"Price is \"+str(price))\n",
    "        \n",
    "print(\"Order subtotal: \"+str(subtotal(price,qty)))\n"
   ]
  },
  {
   "cell_type": "code",
   "execution_count": null,
   "metadata": {},
   "outputs": [],
   "source": []
  }
 ],
 "metadata": {
  "kernelspec": {
   "display_name": "Python 3",
   "language": "python",
   "name": "python3"
  },
  "language_info": {
   "codemirror_mode": {
    "name": "ipython",
    "version": 3
   },
   "file_extension": ".py",
   "mimetype": "text/x-python",
   "name": "python",
   "nbconvert_exporter": "python",
   "pygments_lexer": "ipython3",
   "version": "3.7.4"
  }
 },
 "nbformat": 4,
 "nbformat_minor": 2
}
