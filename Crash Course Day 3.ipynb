{
 "cells": [
  {
   "cell_type": "markdown",
   "metadata": {},
   "source": [
    "## Advanced Data Types"
   ]
  },
  {
   "cell_type": "markdown",
   "metadata": {},
   "source": [
    "### Lists"
   ]
  },
  {
   "cell_type": "markdown",
   "metadata": {},
   "source": [
    "- A list, just like a string, is a sequence of values\n",
    "- Instead of just characters, a list can contain different types of values\n",
    "- The values in the list are called **elements** or **items**"
   ]
  },
  {
   "cell_type": "code",
   "execution_count": 70,
   "metadata": {},
   "outputs": [
    {
     "name": "stdout",
     "output_type": "stream",
     "text": [
      "ab\n"
     ]
    }
   ],
   "source": [
    "print('ab')"
   ]
  },
  {
   "cell_type": "code",
   "execution_count": 68,
   "metadata": {},
   "outputs": [
    {
     "name": "stdout",
     "output_type": "stream",
     "text": [
      "[10, 20, 30, 40]\n",
      "['ten', 'twenty', 'thirty', 'forty']\n"
     ]
    }
   ],
   "source": [
    "lista = [10,20,30,40]\n",
    "listb = [\"ten\",\"twenty\",\"thirty\",\"forty\"]\n",
    "\n",
    "print(lista)\n",
    "print(listb)"
   ]
  },
  {
   "cell_type": "code",
   "execution_count": 78,
   "metadata": {},
   "outputs": [
    {
     "name": "stdout",
     "output_type": "stream",
     "text": [
      "10\n",
      "thirty\n"
     ]
    }
   ],
   "source": [
    "# indexing lists\n",
    "print(lista[0])\n",
    "print(listb[-2])"
   ]
  },
  {
   "cell_type": "code",
   "execution_count": 72,
   "metadata": {},
   "outputs": [
    {
     "data": {
      "text/plain": [
       "int"
      ]
     },
     "execution_count": 72,
     "metadata": {},
     "output_type": "execute_result"
    }
   ],
   "source": [
    "type(lista[-1])"
   ]
  },
  {
   "cell_type": "code",
   "execution_count": 77,
   "metadata": {},
   "outputs": [
    {
     "data": {
      "text/plain": [
       "'i'"
      ]
     },
     "execution_count": 77,
     "metadata": {},
     "output_type": "execute_result"
    }
   ],
   "source": [
    "\"a very very very long long long string\"[-3]"
   ]
  },
  {
   "cell_type": "code",
   "execution_count": 83,
   "metadata": {},
   "outputs": [
    {
     "name": "stdout",
     "output_type": "stream",
     "text": [
      "10,20,30,40,\n",
      "----\n",
      "ten\n",
      "twenty\n",
      "thirty\n",
      "forty\n"
     ]
    }
   ],
   "source": [
    "# using loops for lists\n",
    "for a in lista:\n",
    "    print(a,end=\",\")\n",
    "print()\n",
    "print(\"----\")\n",
    "    \n",
    "for b in listb:\n",
    "    print(b)"
   ]
  },
  {
   "cell_type": "code",
   "execution_count": 85,
   "metadata": {},
   "outputs": [
    {
     "name": "stdout",
     "output_type": "stream",
     "text": [
      "['one', 'big', 'fight']\n",
      "<class 'list'>\n"
     ]
    }
   ],
   "source": [
    "# list functions\n",
    "\n",
    "# split(): breaks a string into a list\n",
    "s = \"one big fight\"\n",
    "print(s.split())\n",
    "print(type(s.split()))"
   ]
  },
  {
   "cell_type": "code",
   "execution_count": 93,
   "metadata": {},
   "outputs": [
    {
     "name": "stdout",
     "output_type": "stream",
     "text": [
      "['one', 'big', 'fight']\n"
     ]
    }
   ],
   "source": [
    "# with delimiter\n",
    "# split(): breaks a string into a list\n",
    "delimiter = \",\"\n",
    "s = \"one,big,fight\"\n",
    "print(s.split(delimiter))"
   ]
  },
  {
   "cell_type": "markdown",
   "metadata": {},
   "source": [
    "### Dictionaries"
   ]
  },
  {
   "cell_type": "markdown",
   "metadata": {},
   "source": [
    "- name or keys and values"
   ]
  },
  {
   "cell_type": "code",
   "execution_count": 95,
   "metadata": {},
   "outputs": [
    {
     "name": "stdout",
     "output_type": "stream",
     "text": [
      "{'code': 100, 'name': 'Americano', 'price': 120}\n"
     ]
    }
   ],
   "source": [
    "product1 = {\"code\":100, \"name\":\"Americano\", \"price\": 120}\n",
    "print(product1)"
   ]
  },
  {
   "cell_type": "code",
   "execution_count": 96,
   "metadata": {},
   "outputs": [
    {
     "name": "stdout",
     "output_type": "stream",
     "text": [
      "100\n",
      "Americano\n",
      "120\n"
     ]
    }
   ],
   "source": [
    "# retrieve value\n",
    "print(product1[\"code\"])\n",
    "print(product1[\"name\"]) \n",
    "print(product1[\"price\"])"
   ]
  },
  {
   "cell_type": "code",
   "execution_count": 97,
   "metadata": {},
   "outputs": [
    {
     "name": "stdout",
     "output_type": "stream",
     "text": [
      "Americano\n",
      "Espresso\n",
      "Cappuccino\n",
      "Latte\n"
     ]
    }
   ],
   "source": [
    "# list of dictionaries\n",
    "products = [\n",
    "    {'code': 100,\"name\":\"Americano\", \"price\": 110},\n",
    "    {'code': 200,\"name\":\"Espresso\", \"price\": 105},\n",
    "    {'code': 300,\"name\":\"Cappuccino\", \"price\": 120},\n",
    "    {'code': 400,\"name\":\"Latte\", \"price\": 125},\n",
    "]\n",
    "\n",
    "# print a list product names\n",
    "\n",
    "for p in products:\n",
    "    print(p[\"name\"])"
   ]
  },
  {
   "cell_type": "code",
   "execution_count": 106,
   "metadata": {},
   "outputs": [
    {
     "data": {
      "text/plain": [
       "{'code': 400, 'name': 'Latte', 'price': 125}"
      ]
     },
     "execution_count": 106,
     "metadata": {},
     "output_type": "execute_result"
    }
   ],
   "source": [
    "print(products[-1])"
   ]
  },
  {
   "cell_type": "code",
   "execution_count": 108,
   "metadata": {},
   "outputs": [
    {
     "name": "stdout",
     "output_type": "stream",
     "text": [
      "{'code': 300, 'name': 'Cappuccino', 'price': 120}\n"
     ]
    }
   ],
   "source": [
    "print(products[-2])"
   ]
  },
  {
   "cell_type": "code",
   "execution_count": 109,
   "metadata": {},
   "outputs": [
    {
     "ename": "TypeError",
     "evalue": "can only concatenate str (not \"int\") to str",
     "output_type": "error",
     "traceback": [
      "\u001b[0;31m---------------------------------------------------------------------------\u001b[0m",
      "\u001b[0;31mTypeError\u001b[0m                                 Traceback (most recent call last)",
      "\u001b[0;32m<ipython-input-109-9e7dada3dce9>\u001b[0m in \u001b[0;36m<module>\u001b[0;34m\u001b[0m\n\u001b[1;32m      2\u001b[0m \u001b[0;34m\u001b[0m\u001b[0m\n\u001b[1;32m      3\u001b[0m \u001b[0;32mfor\u001b[0m \u001b[0mp\u001b[0m \u001b[0;32min\u001b[0m \u001b[0mproducts\u001b[0m\u001b[0;34m:\u001b[0m\u001b[0;34m\u001b[0m\u001b[0;34m\u001b[0m\u001b[0m\n\u001b[0;32m----> 4\u001b[0;31m     \u001b[0mprint\u001b[0m\u001b[0;34m(\u001b[0m\u001b[0mp\u001b[0m\u001b[0;34m[\u001b[0m\u001b[0;34m\"name\"\u001b[0m\u001b[0;34m]\u001b[0m \u001b[0;34m+\u001b[0m \u001b[0;34m\":\"\u001b[0m \u001b[0;34m+\u001b[0m \u001b[0mp\u001b[0m\u001b[0;34m[\u001b[0m\u001b[0;34m\"price\"\u001b[0m\u001b[0;34m]\u001b[0m\u001b[0;34m)\u001b[0m \u001b[0;31m# will yield an error. why?\u001b[0m\u001b[0;34m\u001b[0m\u001b[0;34m\u001b[0m\u001b[0m\n\u001b[0m",
      "\u001b[0;31mTypeError\u001b[0m: can only concatenate str (not \"int\") to str"
     ]
    }
   ],
   "source": [
    "# print a menu\n",
    "\n",
    "for p in products:\n",
    "    print(p[\"name\"] + \":\" + p[\"price\"]) # will yield an error. why?"
   ]
  },
  {
   "cell_type": "code",
   "execution_count": null,
   "metadata": {},
   "outputs": [],
   "source": []
  },
  {
   "cell_type": "code",
   "execution_count": 114,
   "metadata": {},
   "outputs": [
    {
     "name": "stdout",
     "output_type": "stream",
     "text": [
      "Americano:110\n",
      "Espresso:105\n",
      "Cappuccino:120\n",
      "Latte:125\n"
     ]
    }
   ],
   "source": [
    "# print a menu\n",
    "\n",
    "for p in products:\n",
    "    print(p[\"name\"] + \":\" + str(p[\"price\"]))"
   ]
  },
  {
   "cell_type": "code",
   "execution_count": 115,
   "metadata": {},
   "outputs": [
    {
     "data": {
      "text/plain": [
       "[{'code': 100, 'name': 'Americano', 'price': 110},\n",
       " {'code': 200, 'name': 'Espresso', 'price': 105},\n",
       " {'code': 300, 'name': 'Cappuccino', 'price': 120},\n",
       " {'code': 400, 'name': 'Latte', 'price': 125}]"
      ]
     },
     "execution_count": 115,
     "metadata": {},
     "output_type": "execute_result"
    }
   ],
   "source": [
    "products"
   ]
  },
  {
   "cell_type": "code",
   "execution_count": 116,
   "metadata": {},
   "outputs": [
    {
     "name": "stdout",
     "output_type": "stream",
     "text": [
      "Enter product code: 200\n",
      "Enter qty: 1\n",
      "Price is 105\n",
      "Order subtotal: 105\n"
     ]
    }
   ],
   "source": [
    "# take orders\n",
    "\n",
    "code = int(input(\"Enter product code: \"))\n",
    "qty = int(input(\"Enter qty: \"))\n",
    "\n",
    "# get price of ordered product\n",
    "\n",
    "price = 0\n",
    "\n",
    "for p in products:\n",
    "    if(code==p[\"code\"]):\n",
    "        price = p[\"price\"]\n",
    "        break\n",
    "\n",
    "print(\"Price is \"+str(price))\n",
    "        \n",
    "print(\"Order subtotal: \"+str(price*qty))"
   ]
  },
  {
   "cell_type": "code",
   "execution_count": 117,
   "metadata": {},
   "outputs": [
    {
     "name": "stdout",
     "output_type": "stream",
     "text": [
      "{'name': 'Espresso', 'price': 105}\n"
     ]
    }
   ],
   "source": [
    "# what if there are many products? One big loop will make this very slow.\n",
    "# there is a better way to design the dictionary\n",
    "\n",
    "products = {\n",
    "    100:{\"name\":\"Americano\", \"price\": 110},\n",
    "    200:{\"name\":\"Espresso\", \"price\": 105},\n",
    "    300:{\"name\":\"Cappuccino\", \"price\": 120},\n",
    "    400:{\"name\":\"Latte\", \"price\": 125},\n",
    "}\n",
    "\n",
    "# No need for loop\n",
    "\n",
    "print(products[code])"
   ]
  },
  {
   "cell_type": "code",
   "execution_count": 122,
   "metadata": {},
   "outputs": [
    {
     "data": {
      "text/plain": [
       "110"
      ]
     },
     "execution_count": 122,
     "metadata": {},
     "output_type": "execute_result"
    }
   ],
   "source": [
    "# Get price\n",
    "products[100][\"price\"]"
   ]
  },
  {
   "cell_type": "code",
   "execution_count": 123,
   "metadata": {},
   "outputs": [
    {
     "name": "stdout",
     "output_type": "stream",
     "text": [
      "Price is 105\n",
      "Order subtotal: 105\n"
     ]
    }
   ],
   "source": [
    "price = products[code][\"price\"]\n",
    "\n",
    "print(\"Price is \"+str(price))\n",
    "        \n",
    "print(\"Order subtotal: \"+str(price*qty))"
   ]
  },
  {
   "cell_type": "code",
   "execution_count": null,
   "metadata": {},
   "outputs": [],
   "source": [
    "def subtotal(p,q):\n",
    "    return p*q\n",
    "\n",
    "products = {\n",
    "    100:{\"name\":\"Americano\", \"price\": 110},\n",
    "    200:{\"name\":\"Espresso\", \"price\": 105},\n",
    "    300:{\"name\":\"Cappuccino\", \"price\": 120},\n",
    "    400:{\"name\":\"Latte\", \"price\": 125},\n",
    "}\n",
    "\n",
    "code = int(input(\"Enter product code: \"))\n",
    "qty = int(input(\"Enter qty: \"))\n",
    "\n",
    "# get price of ordered product\n",
    "\n",
    "price = products[code][\"price\"]\n",
    "\n",
    "print(\"Price is \"+str(price))\n",
    "        \n",
    "print(\"Order subtotal: \"+str(subtotal(price,qty)))\n"
   ]
  },
  {
   "cell_type": "markdown",
   "metadata": {},
   "source": [
    "### Exercise (if there's time): Create a food tray (equivalent to a shopping cart)"
   ]
  },
  {
   "cell_type": "markdown",
   "metadata": {},
   "source": [
    "## String Formatting"
   ]
  },
  {
   "cell_type": "code",
   "execution_count": null,
   "metadata": {},
   "outputs": [],
   "source": [
    "str(5)"
   ]
  },
  {
   "cell_type": "code",
   "execution_count": null,
   "metadata": {},
   "outputs": [],
   "source": [
    "\"{} {} {}\".format(1,2,3)"
   ]
  },
  {
   "cell_type": "code",
   "execution_count": null,
   "metadata": {},
   "outputs": [],
   "source": [
    "\"{}-{}\".format(\"a\",\"b\")"
   ]
  },
  {
   "cell_type": "code",
   "execution_count": null,
   "metadata": {},
   "outputs": [],
   "source": [
    "\"{} {}\".format(\"first\", \"second\")"
   ]
  },
  {
   "cell_type": "code",
   "execution_count": null,
   "metadata": {},
   "outputs": [],
   "source": [
    "\"{0} {1}\".format(\"zero\",\"one\")"
   ]
  },
  {
   "cell_type": "code",
   "execution_count": null,
   "metadata": {},
   "outputs": [],
   "source": [
    "\"{1} {0}\".format(\"zero\",\"one\")"
   ]
  },
  {
   "cell_type": "code",
   "execution_count": null,
   "metadata": {},
   "outputs": [],
   "source": [
    "\"{x} {y}\".format(x=\"a\", y=\"b\")"
   ]
  },
  {
   "cell_type": "code",
   "execution_count": null,
   "metadata": {},
   "outputs": [],
   "source": [
    "\"{y} {x}\".format(x=\"a\", y=\"b\")"
   ]
  },
  {
   "cell_type": "code",
   "execution_count": null,
   "metadata": {},
   "outputs": [],
   "source": [
    "\"{code}          {name}       {price}\".format(code=\"brewedcoffee\",name=\"Brewed Coffee\",price=120.00)"
   ]
  },
  {
   "cell_type": "markdown",
   "metadata": {},
   "source": [
    "## Error and Exception Handling"
   ]
  },
  {
   "cell_type": "markdown",
   "metadata": {},
   "source": [
    "Note: Syntax Errors cannot be caught. Only Runtime errors.\n",
    "```\n",
    "try:\n",
    "    ...\n",
    "except IOError:\n",
    "    print('An error occured trying to read the file.')\n",
    "    \n",
    "except ValueError:\n",
    "    print('Non-numeric data found in the file.')\n",
    "\n",
    "except ImportError:\n",
    "    print \"NO module found\"\n",
    "    \n",
    "except EOFError:\n",
    "    print('Why did you do an EOF on me?')\n",
    "\n",
    "except KeyboardInterrupt:\n",
    "    print('You cancelled the operation.')\n",
    "\n",
    "except:\n",
    "    print('An error occured.')\n",
    "```"
   ]
  },
  {
   "cell_type": "code",
   "execution_count": null,
   "metadata": {},
   "outputs": [],
   "source": [
    "x = int(input(\"Enter value: \"))"
   ]
  },
  {
   "cell_type": "code",
   "execution_count": null,
   "metadata": {},
   "outputs": [],
   "source": [
    "try:\n",
    "    x = int(input(\"Enter value: \"))\n",
    "except ValueError:\n",
    "    print(\"Non-numeric data entered.\")"
   ]
  },
  {
   "cell_type": "code",
   "execution_count": null,
   "metadata": {},
   "outputs": [],
   "source": [
    "valid_entry = False\n",
    "while(not valid_entry):\n",
    "    try:\n",
    "        x = int(input(\"Enter value: \"))\n",
    "        valid_entry = True\n",
    "    except ValueError:\n",
    "        print(\"Non-numeric data entered.\")\n",
    "    except KeyboardInterrupt:\n",
    "        print(\"You cancelled the operation.\")\n",
    "        break"
   ]
  },
  {
   "cell_type": "markdown",
   "metadata": {},
   "source": [
    "## Input and Output"
   ]
  },
  {
   "cell_type": "markdown",
   "metadata": {},
   "source": [
    "### File I/O"
   ]
  },
  {
   "cell_type": "markdown",
   "metadata": {},
   "source": [
    "The argument mode points to a string beginning with one of the following\n",
    " sequences (Additional characters may follow these sequences.):\n",
    "\n",
    " \"r\"   Open text file for reading.  The stream is positioned at the\n",
    "       beginning of the file.\n",
    "\n",
    " \"r+\"  Open for reading and writing.  The stream is positioned at the\n",
    "       beginning of the file.\n",
    "\n",
    " \"w\"   Truncate file to zero length or create text file for writing.\n",
    "       The stream is positioned at the beginning of the file.\n",
    "\n",
    " \"w+\"  Open for reading and writing.  The file is created if it does not\n",
    "       exist, otherwise it is truncated.  The stream is positioned at\n",
    "       the beginning of the file.\n",
    "\n",
    " \"a\"   Open for writing.  The file is created if it does not exist.  The\n",
    "       stream is positioned at the end of the file.  Subsequent writes\n",
    "       to the file will always end up at the then current end of file,\n",
    "       irrespective of any intervening fseek(3) or similar.\n",
    "\n",
    " \"a+\"  Open for reading and writing.  The file is created if it does not\n",
    "       exist.  The stream is positioned at the end of the file.  Subse-\n",
    "       quent writes to the file will always end up at the then current\n",
    "       end of file, irrespective of any intervening fseek(3) or similar."
   ]
  },
  {
   "cell_type": "markdown",
   "metadata": {},
   "source": [
    "### ```with``` clause"
   ]
  },
  {
   "cell_type": "code",
   "execution_count": null,
   "metadata": {},
   "outputs": [],
   "source": [
    "# with is syntactic sugar for try ... except with file close\n",
    "string = \"Hello world!\"\n",
    "\n",
    "with open('hello.txt',\"w+\") as file:\n",
    "    file.write(string)"
   ]
  },
  {
   "cell_type": "markdown",
   "metadata": {},
   "source": [
    "### Multiple Lines"
   ]
  },
  {
   "cell_type": "code",
   "execution_count": null,
   "metadata": {},
   "outputs": [],
   "source": [
    "strings = [\"This\",\"is\",\"a\",\"multi-line\",\"document\"]"
   ]
  },
  {
   "cell_type": "code",
   "execution_count": null,
   "metadata": {},
   "outputs": [],
   "source": [
    "strings"
   ]
  },
  {
   "cell_type": "code",
   "execution_count": null,
   "metadata": {},
   "outputs": [],
   "source": [
    "with open(\"multiline.txt\",\"w+\") as multiline_file:\n",
    "    for item in strings:\n",
    "        multiline_file.write(item+'\\n') #unlike print(), write does not append a newline character by default"
   ]
  },
  {
   "cell_type": "code",
   "execution_count": null,
   "metadata": {},
   "outputs": [],
   "source": [
    "## before running, edit the generated text file outside of Python\n",
    "\n",
    "with open(\"multiline.txt\",\"r\") as multiline_file:\n",
    "    lines = multiline_file.readlines()\n",
    "    for line in lines:\n",
    "        print(line,end=\"\")"
   ]
  },
  {
   "cell_type": "markdown",
   "metadata": {},
   "source": [
    "## Introduction to File Formats"
   ]
  },
  {
   "cell_type": "markdown",
   "metadata": {},
   "source": [
    "### Comma-Separated Value (CSV) Files"
   ]
  },
  {
   "cell_type": "markdown",
   "metadata": {},
   "source": [
    "#### From Wikipedia:\n",
    "\n",
    "In computing, a comma-separated values (CSV) file is a delimited text file that uses a comma to separate values. A CSV file stores tabular data (numbers and text) in plain text. Each line of the file is a data record. Each record consists of one or more fields, separated by commas. The use of the comma as a field separator is the source of the name for this file format.\n",
    "\n",
    "The CSV file format is not fully standardized. The basic idea of separating fields with a comma is clear, but that idea gets complicated when the field data may also contain commas or even embedded line-breaks. CSV implementations may not handle such field data, or they may use quotation marks to surround the field. Quotation does not solve everything: some fields may need embedded quotation marks, so a CSV implementation may include escape characters or escape sequences.\n",
    "\n",
    "In addition, the term \"CSV\" also denotes some closely related delimiter-separated formats that use different field delimiters, for example, semicolons. These include tab-separated values and space-separated values. A delimiter that is not present in the field data (such as tab) keeps the format parsing simple. These alternate delimiter-separated files are often even given a .csv extension despite the use of a non-comma field separator. This loose terminology can cause problems in data exchange. Many applications that accept CSV files have options to select the delimiter character and the quotation character. Semicolons are often used in some European countries, such as Italy, instead of commas."
   ]
  },
  {
   "cell_type": "markdown",
   "metadata": {},
   "source": [
    "#### Example CSV\n",
    "```\n",
    "code,name,price\n",
    "\"brewedcoffee\",\"Brewed Coffee\",120.0\n",
    "\"espresso\",\"Espresso\",140.00\n",
    "\"americano\",\"Americano\",150.00\n",
    "\"cappuccino\",\"Cappuccino\",170.00\n",
    "```"
   ]
  },
  {
   "cell_type": "markdown",
   "metadata": {},
   "source": [
    "Create a text file named **products.csv** with contents from the previous cell. Make sure that this line is in the beginning of the file:\n",
    "\n",
    "```code,name,price```\n",
    "\n",
    "Save the file in the same directory as this notebook."
   ]
  },
  {
   "cell_type": "code",
   "execution_count": null,
   "metadata": {},
   "outputs": [],
   "source": [
    "import csv"
   ]
  },
  {
   "cell_type": "code",
   "execution_count": null,
   "metadata": {},
   "outputs": [],
   "source": [
    "with open('products.csv') as csv_file:\n",
    "    csv_reader = csv.reader(csv_file, delimiter=',')\n",
    "    line_count = 0\n",
    "    for row in csv_reader:\n",
    "        if line_count == 0:\n",
    "            print(f'Column names are {\", \".join(row)}')\n",
    "        else:\n",
    "            print(f'\\t{row[0]}  {row[1]}  {row[2]}')\n",
    "        line_count += 1"
   ]
  },
  {
   "cell_type": "markdown",
   "metadata": {},
   "source": [
    "#### Alternative solution using `enumerate`"
   ]
  },
  {
   "cell_type": "code",
   "execution_count": null,
   "metadata": {},
   "outputs": [],
   "source": [
    "with open('products.csv') as csv_file:\n",
    "    csv_reader = csv.reader(csv_file, delimiter=',')\n",
    "    for line_count, row in enumerate(csv_reader):\n",
    "        if line_count == 0:\n",
    "            print(f'Column names are {\", \".join(row)}')\n",
    "        else:\n",
    "            print(f'\\t{row[0]}  {row[1]}  {row[2]}')"
   ]
  },
  {
   "cell_type": "markdown",
   "metadata": {},
   "source": [
    "#### Writing to CSV files"
   ]
  },
  {
   "cell_type": "code",
   "execution_count": 64,
   "metadata": {},
   "outputs": [],
   "source": [
    "import csv\n",
    "\n",
    "with open('sales_orders.csv', 'a', newline='') as csvfile:\n",
    "    order_writer = csv.writer(csvfile, quoting=csv.QUOTE_MINIMAL)\n",
    "    order_writer.writerow([\"code\",\"qty\",\"subtotal\"])\n",
    "    order_writer.writerow([\"espresso\",2,280])\n",
    "    order_writer.writerow(['americano', 1, 150])\n",
    "    order_writer.writerow(['latte', 1, 150])"
   ]
  },
  {
   "cell_type": "markdown",
   "metadata": {},
   "source": [
    "### HTML"
   ]
  },
  {
   "cell_type": "code",
   "execution_count": null,
   "metadata": {},
   "outputs": [],
   "source": [
    "my_html = \"\"\"\n",
    "    <html>\n",
    "        <body>\n",
    "            <h1>Heading 1</h1>\n",
    "            <h2>Heading 2</h2>\n",
    "            The <b>quick</b> brown <i>fox</i> jumps over the lazy dogs.\n",
    "            <p/>\n",
    "            <h3>What do you want to do next?</h3>\n",
    "            <ul>\n",
    "               <li> Generate HTML from Python </li>\n",
    "               <li> ...\n",
    "            </ul>\n",
    "            <p/>\n",
    "            Sample ordered list:\n",
    "            <ol>\n",
    "               <li> Generate HTML from Python </li>\n",
    "               <li> ...\n",
    "            </ol>\n",
    "            <hr/>\n",
    "        </body>\n",
    "    </html\n",
    "\"\"\"\n",
    "\n",
    "with open('index.html',\"w+\") as file:\n",
    "    file.write(my_html)"
   ]
  },
  {
   "cell_type": "markdown",
   "metadata": {},
   "source": [
    "### Synthesis: Prepare HTML-based order template"
   ]
  },
  {
   "cell_type": "code",
   "execution_count": null,
   "metadata": {},
   "outputs": [],
   "source": [
    "order_html = \"\"\"\n",
    "   <html>\n",
    "       <h1>Order Details</h1>\n",
    "       <table>\n",
    "         <tr><th>Product Name</th><th>Quantity</th><th>Subtotal</th></tr>\n",
    "         {items}\n",
    "       </table>\n",
    "       <b>Total:</b><b>{total}</b>\n",
    "   </html>\n",
    "\"\"\"\n",
    "\n",
    "food_tray = [\n",
    "    {\"product_name\":\"cappuccino\",\"qty\":1,\"subtotal\":100},\n",
    "    {\"product_name\":\"americano\",\"qty\":1,\"subtotal\":120}\n",
    "]\n",
    "\n",
    "items_html = \"\"\n",
    "total_amount = 0\n",
    "for item in food_tray:\n",
    "    ihtml = \"<tr>\"\n",
    "    ihtml += \"<td>{name}</td><td>{qty}</td><td>{subtotal}</td>\".format(name=item[\"product_name\"],\n",
    "                                                                       qty=item[\"qty\"],\n",
    "                                                                       subtotal=item[\"subtotal\"]\n",
    "                                                                      )\n",
    "    ihtml += \"</tr>\"\n",
    "    items_html += ihtml\n",
    "    total_amount += item[\"subtotal\"]\n",
    "\n",
    "print(order_html.format(items=items_html,total=total_amount))\n",
    "\n",
    "final_order_html = order_html.format(items=items_html,total=total_amount)\n",
    "\n",
    "with open('order.html',\"w+\") as file:\n",
    "    file.write(final_order_html)"
   ]
  },
  {
   "cell_type": "markdown",
   "metadata": {},
   "source": [
    "### JSON"
   ]
  },
  {
   "cell_type": "markdown",
   "metadata": {},
   "source": [
    "**Wikipedia:**\n",
    "    \n",
    "In computing, JavaScript Object Notation (JSON) (/ˈdʒeɪsən/ \"Jason\",[1] /ˈdʒeɪsɒn/) is an open-standard file format that uses human-readable text to transmit data objects consisting of attribute–value pairs and array data types (or any other serializable value). It is a very common data format used for asynchronous browser–server communication, including as a replacement for XML in some AJAX-style systems.[2]\n",
    "\n",
    "JSON is a language-independent data format. It was derived from JavaScript, but as of 2017, many programming languages include code to generate and parse JSON-format data. The official Internet media type for JSON is application/json. JSON filenames use the extension .json."
   ]
  },
  {
   "cell_type": "code",
   "execution_count": null,
   "metadata": {},
   "outputs": [],
   "source": [
    "jsonstring = \"\"\"\n",
    "{\"code\":\"espresso\",\"name\":\"Espresso\",\"price\":\"140\"}\n",
    "\"\"\""
   ]
  },
  {
   "cell_type": "code",
   "execution_count": null,
   "metadata": {},
   "outputs": [],
   "source": [
    "type(jsonstring)"
   ]
  },
  {
   "cell_type": "code",
   "execution_count": null,
   "metadata": {},
   "outputs": [],
   "source": [
    "import json\n",
    "\n",
    "jsondata = json.loads(jsonstring)"
   ]
  },
  {
   "cell_type": "code",
   "execution_count": null,
   "metadata": {},
   "outputs": [],
   "source": [
    "type(jsondata)"
   ]
  },
  {
   "cell_type": "code",
   "execution_count": null,
   "metadata": {},
   "outputs": [],
   "source": [
    "jsondata"
   ]
  },
  {
   "cell_type": "code",
   "execution_count": 124,
   "metadata": {},
   "outputs": [],
   "source": [
    "jsonliststring = \"\"\"\n",
    "[\n",
    "   {\"code\":\"espresso\",\"name\":\"Espresso\",\"price\":\"140\"},\n",
    "   {\"code\":\"americano\",\"name\":\"Americano\",\"price\":\"150\"},\n",
    "   {\"code\":\"cappuccino\",\"name\":\"Cappuccino\",\"price\":\"170\"}\n",
    "]\n",
    "\"\"\""
   ]
  },
  {
   "cell_type": "code",
   "execution_count": 125,
   "metadata": {},
   "outputs": [],
   "source": [
    "jsonproducts = json.loads(jsonliststring)"
   ]
  },
  {
   "cell_type": "code",
   "execution_count": 126,
   "metadata": {},
   "outputs": [
    {
     "data": {
      "text/plain": [
       "[{'code': 'espresso', 'name': 'Espresso', 'price': '140'},\n",
       " {'code': 'americano', 'name': 'Americano', 'price': '150'},\n",
       " {'code': 'cappuccino', 'name': 'Cappuccino', 'price': '170'}]"
      ]
     },
     "execution_count": 126,
     "metadata": {},
     "output_type": "execute_result"
    }
   ],
   "source": [
    "jsonproducts"
   ]
  },
  {
   "cell_type": "code",
   "execution_count": null,
   "metadata": {},
   "outputs": [],
   "source": [
    "jsonliststring2 =  \"\"\"\n",
    "The\n",
    "quick\n",
    "brown\n",
    "fox\n",
    "\"\"\"\n",
    "        \n",
    "print(jsonliststring2)"
   ]
  },
  {
   "cell_type": "code",
   "execution_count": null,
   "metadata": {},
   "outputs": [],
   "source": [
    "jsondata"
   ]
  },
  {
   "cell_type": "markdown",
   "metadata": {},
   "source": [
    "### Synthesis: Write JSON to file"
   ]
  },
  {
   "cell_type": "code",
   "execution_count": 61,
   "metadata": {},
   "outputs": [],
   "source": [
    "with open('cp_menu.json', 'w') as menu_file:  # writing JSON object\n",
    "    json.dump(jsondata, menu_file)"
   ]
  },
  {
   "cell_type": "markdown",
   "metadata": {},
   "source": [
    "### Synthesis: Read JSON from file"
   ]
  },
  {
   "cell_type": "code",
   "execution_count": 62,
   "metadata": {},
   "outputs": [],
   "source": [
    "with open('cp_menu.json', 'r') as menu_file:  # reading JSON object\n",
    "    jsondata2 = json.loads(menu_file.read())"
   ]
  },
  {
   "cell_type": "code",
   "execution_count": null,
   "metadata": {},
   "outputs": [],
   "source": [
    "jsondata2"
   ]
  },
  {
   "cell_type": "markdown",
   "metadata": {},
   "source": [
    "## Next few sessions\n",
    "\n",
    "More data types:\n",
    "    - More detailed JSON\n",
    "    - Writing to CSV files\n",
    "    - More detailed HTML with CSS\n",
    "    - Application Programming Interfaces (APIs)\n",
    "\n",
    "Web Application Frameworks"
   ]
  },
  {
   "cell_type": "code",
   "execution_count": null,
   "metadata": {},
   "outputs": [],
   "source": []
  }
 ],
 "metadata": {
  "kernelspec": {
   "display_name": "Python 3",
   "language": "python",
   "name": "python3"
  },
  "language_info": {
   "codemirror_mode": {
    "name": "ipython",
    "version": 3
   },
   "file_extension": ".py",
   "mimetype": "text/x-python",
   "name": "python",
   "nbconvert_exporter": "python",
   "pygments_lexer": "ipython3",
   "version": "3.7.3"
  }
 },
 "nbformat": 4,
 "nbformat_minor": 2
}
